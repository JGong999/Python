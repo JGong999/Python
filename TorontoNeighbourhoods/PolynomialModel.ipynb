{
 "cells": [
  {
   "cell_type": "code",
   "execution_count": 25,
   "metadata": {},
   "outputs": [],
   "source": [
    "import pandas as pd\n",
    "import numpy as np\n",
    "import matplotlib.pyplot as plt\n",
    "import numpy.polynomial.polynomial as pl\n",
    "from sklearn.metrics import r2_score"
   ]
  },
  {
   "cell_type": "markdown",
   "metadata": {},
   "source": [
    "### Import data"
   ]
  },
  {
   "cell_type": "code",
   "execution_count": 26,
   "metadata": {},
   "outputs": [
    {
     "data": {
      "text/html": [
       "<div>\n",
       "<style scoped>\n",
       "    .dataframe tbody tr th:only-of-type {\n",
       "        vertical-align: middle;\n",
       "    }\n",
       "\n",
       "    .dataframe tbody tr th {\n",
       "        vertical-align: top;\n",
       "    }\n",
       "\n",
       "    .dataframe thead th {\n",
       "        text-align: right;\n",
       "    }\n",
       "</style>\n",
       "<table border=\"1\" class=\"dataframe\">\n",
       "  <thead>\n",
       "    <tr style=\"text-align: right;\">\n",
       "      <th></th>\n",
       "      <th>_id</th>\n",
       "      <th>Category</th>\n",
       "      <th>Topic</th>\n",
       "      <th>Data Source</th>\n",
       "      <th>Characteristic</th>\n",
       "      <th>City of Toronto</th>\n",
       "      <th>Agincourt North</th>\n",
       "      <th>Agincourt South-Malvern West</th>\n",
       "      <th>Alderwood</th>\n",
       "      <th>Annex</th>\n",
       "      <th>...</th>\n",
       "      <th>Willowdale West</th>\n",
       "      <th>Willowridge-Martingrove-Richview</th>\n",
       "      <th>Woburn</th>\n",
       "      <th>Woodbine Corridor</th>\n",
       "      <th>Woodbine-Lumsden</th>\n",
       "      <th>Wychwood</th>\n",
       "      <th>Yonge-Eglinton</th>\n",
       "      <th>Yonge-St.Clair</th>\n",
       "      <th>York University Heights</th>\n",
       "      <th>Yorkdale-Glen Park</th>\n",
       "    </tr>\n",
       "  </thead>\n",
       "  <tbody>\n",
       "    <tr>\n",
       "      <th>0</th>\n",
       "      <td>1</td>\n",
       "      <td>Neighbourhood Information</td>\n",
       "      <td>Neighbourhood Information</td>\n",
       "      <td>City of Toronto</td>\n",
       "      <td>Neighbourhood Number</td>\n",
       "      <td>NaN</td>\n",
       "      <td>129</td>\n",
       "      <td>128</td>\n",
       "      <td>20</td>\n",
       "      <td>95</td>\n",
       "      <td>...</td>\n",
       "      <td>37</td>\n",
       "      <td>7</td>\n",
       "      <td>137</td>\n",
       "      <td>64</td>\n",
       "      <td>60</td>\n",
       "      <td>94</td>\n",
       "      <td>100</td>\n",
       "      <td>97</td>\n",
       "      <td>27</td>\n",
       "      <td>31</td>\n",
       "    </tr>\n",
       "    <tr>\n",
       "      <th>1</th>\n",
       "      <td>2</td>\n",
       "      <td>Neighbourhood Information</td>\n",
       "      <td>Neighbourhood Information</td>\n",
       "      <td>City of Toronto</td>\n",
       "      <td>TSNS2020 Designation</td>\n",
       "      <td>NaN</td>\n",
       "      <td>No Designation</td>\n",
       "      <td>No Designation</td>\n",
       "      <td>No Designation</td>\n",
       "      <td>No Designation</td>\n",
       "      <td>...</td>\n",
       "      <td>No Designation</td>\n",
       "      <td>No Designation</td>\n",
       "      <td>NIA</td>\n",
       "      <td>No Designation</td>\n",
       "      <td>No Designation</td>\n",
       "      <td>No Designation</td>\n",
       "      <td>No Designation</td>\n",
       "      <td>No Designation</td>\n",
       "      <td>NIA</td>\n",
       "      <td>Emerging Neighbourhood</td>\n",
       "    </tr>\n",
       "    <tr>\n",
       "      <th>2</th>\n",
       "      <td>3</td>\n",
       "      <td>Population</td>\n",
       "      <td>Population and dwellings</td>\n",
       "      <td>Census Profile 98-316-X2016001</td>\n",
       "      <td>Population, 2016</td>\n",
       "      <td>2,731,571</td>\n",
       "      <td>29,113</td>\n",
       "      <td>23,757</td>\n",
       "      <td>12,054</td>\n",
       "      <td>30,526</td>\n",
       "      <td>...</td>\n",
       "      <td>16,936</td>\n",
       "      <td>22,156</td>\n",
       "      <td>53,485</td>\n",
       "      <td>12,541</td>\n",
       "      <td>7,865</td>\n",
       "      <td>14,349</td>\n",
       "      <td>11,817</td>\n",
       "      <td>12,528</td>\n",
       "      <td>27,593</td>\n",
       "      <td>14,804</td>\n",
       "    </tr>\n",
       "  </tbody>\n",
       "</table>\n",
       "<p>3 rows × 146 columns</p>\n",
       "</div>"
      ],
      "text/plain": [
       "   _id                   Category                      Topic  \\\n",
       "0    1  Neighbourhood Information  Neighbourhood Information   \n",
       "1    2  Neighbourhood Information  Neighbourhood Information   \n",
       "2    3                 Population   Population and dwellings   \n",
       "\n",
       "                      Data Source        Characteristic City of Toronto  \\\n",
       "0                 City of Toronto  Neighbourhood Number             NaN   \n",
       "1                 City of Toronto  TSNS2020 Designation             NaN   \n",
       "2  Census Profile 98-316-X2016001      Population, 2016       2,731,571   \n",
       "\n",
       "  Agincourt North Agincourt South-Malvern West       Alderwood  \\\n",
       "0             129                          128              20   \n",
       "1  No Designation               No Designation  No Designation   \n",
       "2          29,113                       23,757          12,054   \n",
       "\n",
       "            Annex  ... Willowdale West Willowridge-Martingrove-Richview  \\\n",
       "0              95  ...              37                                7   \n",
       "1  No Designation  ...  No Designation                   No Designation   \n",
       "2          30,526  ...          16,936                           22,156   \n",
       "\n",
       "   Woburn Woodbine Corridor Woodbine-Lumsden        Wychwood  Yonge-Eglinton  \\\n",
       "0     137                64               60              94             100   \n",
       "1     NIA    No Designation   No Designation  No Designation  No Designation   \n",
       "2  53,485            12,541            7,865          14,349          11,817   \n",
       "\n",
       "   Yonge-St.Clair York University Heights      Yorkdale-Glen Park  \n",
       "0              97                      27                      31  \n",
       "1  No Designation                     NIA  Emerging Neighbourhood  \n",
       "2          12,528                  27,593                  14,804  \n",
       "\n",
       "[3 rows x 146 columns]"
      ]
     },
     "execution_count": 26,
     "metadata": {},
     "output_type": "execute_result"
    }
   ],
   "source": [
    "nb_2016 = pd.read_csv('neighbourhood-profiles-2016-csv.csv')\n",
    "nb_2016.head(3)"
   ]
  },
  {
   "cell_type": "markdown",
   "metadata": {},
   "source": [
    "### Create new tables for each Category with name of 'nb2016_Category'"
   ]
  },
  {
   "cell_type": "code",
   "execution_count": 27,
   "metadata": {},
   "outputs": [
    {
     "data": {
      "text/plain": [
       "['nb2016_NeighbourhoodInformation',\n",
       " 'nb2016_Population',\n",
       " 'nb2016_FamiliesHouseholdsAndMaritalStatus',\n",
       " 'nb2016_Language',\n",
       " 'nb2016_Income',\n",
       " 'nb2016_ImmigrationAndCitizenship',\n",
       " 'nb2016_VisibleMinority',\n",
       " 'nb2016_EthnicOrigin',\n",
       " 'nb2016_AboriginalPeoples',\n",
       " 'nb2016_Education',\n",
       " 'nb2016_Housing',\n",
       " 'nb2016_LanguageOfWork',\n",
       " 'nb2016_Labour',\n",
       " 'nb2016_JourneyToWork',\n",
       " 'nb2016_Mobility']"
      ]
     },
     "execution_count": 27,
     "metadata": {},
     "output_type": "execute_result"
    }
   ],
   "source": [
    "tableName = []\n",
    "for i in nb_2016['Category'].unique():\n",
    "    j = i.title().replace(', ', '').replace(' ', '')\n",
    "    tableName.append('nb2016_' + j)\n",
    "    globals()['nb2016_' + j] = nb_2016[nb_2016['Category'] == i]\n",
    "tableName"
   ]
  },
  {
   "cell_type": "markdown",
   "metadata": {},
   "source": [
    "### Create subset of population"
   ]
  },
  {
   "cell_type": "code",
   "execution_count": 28,
   "metadata": {},
   "outputs": [],
   "source": [
    "# Create new column names\n",
    "ColName = {}\n",
    "n=2\n",
    "for i in nb2016_Population['Characteristic'][0:7]:\n",
    "    j = i.title().replace(', ', '').replace(' ', '').replace('-', '')\n",
    "    ColName[n] = j\n",
    "    n = n + 1"
   ]
  },
  {
   "cell_type": "code",
   "execution_count": 29,
   "metadata": {},
   "outputs": [
    {
     "data": {
      "text/html": [
       "<div>\n",
       "<style scoped>\n",
       "    .dataframe tbody tr th:only-of-type {\n",
       "        vertical-align: middle;\n",
       "    }\n",
       "\n",
       "    .dataframe tbody tr th {\n",
       "        vertical-align: top;\n",
       "    }\n",
       "\n",
       "    .dataframe thead th {\n",
       "        text-align: right;\n",
       "    }\n",
       "</style>\n",
       "<table border=\"1\" class=\"dataframe\">\n",
       "  <thead>\n",
       "    <tr style=\"text-align: right;\">\n",
       "      <th></th>\n",
       "      <th>Population2016</th>\n",
       "      <th>Population2011</th>\n",
       "      <th>PopulationChange20112016</th>\n",
       "      <th>TotalPrivateDwellings</th>\n",
       "      <th>PrivateDwellingsOccupiedByUsualResidents</th>\n",
       "      <th>PopulationDensityPerSquareKilometre</th>\n",
       "      <th>LandAreaInSquareKilometres</th>\n",
       "    </tr>\n",
       "  </thead>\n",
       "  <tbody>\n",
       "    <tr>\n",
       "      <th>City of Toronto</th>\n",
       "      <td>2,731,571</td>\n",
       "      <td>2,615,060</td>\n",
       "      <td>4.50%</td>\n",
       "      <td>1,179,057</td>\n",
       "      <td>1,112,929</td>\n",
       "      <td>4,334</td>\n",
       "      <td>630.2</td>\n",
       "    </tr>\n",
       "    <tr>\n",
       "      <th>Agincourt North</th>\n",
       "      <td>29,113</td>\n",
       "      <td>30,279</td>\n",
       "      <td>-3.90%</td>\n",
       "      <td>9,371</td>\n",
       "      <td>9,120</td>\n",
       "      <td>3,929</td>\n",
       "      <td>7.41</td>\n",
       "    </tr>\n",
       "    <tr>\n",
       "      <th>Agincourt South-Malvern West</th>\n",
       "      <td>23,757</td>\n",
       "      <td>21,988</td>\n",
       "      <td>8.00%</td>\n",
       "      <td>8,535</td>\n",
       "      <td>8,136</td>\n",
       "      <td>3,034</td>\n",
       "      <td>7.83</td>\n",
       "    </tr>\n",
       "  </tbody>\n",
       "</table>\n",
       "</div>"
      ],
      "text/plain": [
       "                             Population2016 Population2011  \\\n",
       "City of Toronto                   2,731,571      2,615,060   \n",
       "Agincourt North                      29,113         30,279   \n",
       "Agincourt South-Malvern West         23,757         21,988   \n",
       "\n",
       "                             PopulationChange20112016 TotalPrivateDwellings  \\\n",
       "City of Toronto                                 4.50%             1,179,057   \n",
       "Agincourt North                                -3.90%                 9,371   \n",
       "Agincourt South-Malvern West                    8.00%                 8,535   \n",
       "\n",
       "                             PrivateDwellingsOccupiedByUsualResidents  \\\n",
       "City of Toronto                                             1,112,929   \n",
       "Agincourt North                                                 9,120   \n",
       "Agincourt South-Malvern West                                    8,136   \n",
       "\n",
       "                             PopulationDensityPerSquareKilometre  \\\n",
       "City of Toronto                                            4,334   \n",
       "Agincourt North                                            3,929   \n",
       "Agincourt South-Malvern West                               3,034   \n",
       "\n",
       "                             LandAreaInSquareKilometres  \n",
       "City of Toronto                                   630.2  \n",
       "Agincourt North                                    7.41  \n",
       "Agincourt South-Malvern West                       7.83  "
      ]
     },
     "execution_count": 29,
     "metadata": {},
     "output_type": "execute_result"
    }
   ],
   "source": [
    "# Rename column name\n",
    "nb2016Pop = nb2016_Population[0:7].iloc[:, 5:].transpose().rename(columns=ColName)\n",
    "nb2016Pop.head(3)"
   ]
  },
  {
   "cell_type": "code",
   "execution_count": 30,
   "metadata": {},
   "outputs": [
    {
     "name": "stdout",
     "output_type": "stream",
     "text": [
      "['Population2016' 'Population2011' 'PopulationChange20112016'\n",
      " 'TotalPrivateDwellings' 'PrivateDwellingsOccupiedByUsualResidents'\n",
      " 'PopulationDensityPerSquareKilometre' 'LandAreaInSquareKilometres']\n"
     ]
    }
   ],
   "source": [
    "print(nb2016Pop.columns.values)"
   ]
  },
  {
   "cell_type": "code",
   "execution_count": 31,
   "metadata": {},
   "outputs": [
    {
     "name": "stdout",
     "output_type": "stream",
     "text": [
      "Population2016                              object\n",
      "Population2011                              object\n",
      "PopulationChange20112016                    object\n",
      "TotalPrivateDwellings                       object\n",
      "PrivateDwellingsOccupiedByUsualResidents    object\n",
      "PopulationDensityPerSquareKilometre         object\n",
      "LandAreaInSquareKilometres                  object\n",
      "dtype: object\n"
     ]
    }
   ],
   "source": [
    "print(nb2016Pop.dtypes)"
   ]
  },
  {
   "cell_type": "code",
   "execution_count": 32,
   "metadata": {},
   "outputs": [],
   "source": [
    "# Convert string to int and float\n",
    "for i in nb2016Pop.columns:\n",
    "    if i == 'PopulationChange20112016':\n",
    "        nb2016Pop[i] = nb2016Pop[i].str.replace('%', '').astype(float) / 100\n",
    "    elif i == 'LandAreaInSquareKilometres':\n",
    "        nb2016Pop[i] = nb2016Pop[i].str.replace(',', '').astype(float)\n",
    "    else: \n",
    "        nb2016Pop[i] = nb2016Pop[i].str.replace(',', '').astype(int)"
   ]
  },
  {
   "cell_type": "code",
   "execution_count": 33,
   "metadata": {},
   "outputs": [
    {
     "data": {
      "text/plain": [
       "Population2016                                int32\n",
       "Population2011                                int32\n",
       "PopulationChange20112016                    float64\n",
       "TotalPrivateDwellings                         int32\n",
       "PrivateDwellingsOccupiedByUsualResidents      int32\n",
       "PopulationDensityPerSquareKilometre           int32\n",
       "LandAreaInSquareKilometres                  float64\n",
       "dtype: object"
      ]
     },
     "execution_count": 33,
     "metadata": {},
     "output_type": "execute_result"
    }
   ],
   "source": [
    "# Check data types\n",
    "nb2016Pop.dtypes"
   ]
  },
  {
   "cell_type": "code",
   "execution_count": 34,
   "metadata": {},
   "outputs": [
    {
     "name": "stdout",
     "output_type": "stream",
     "text": [
      "Population2016 Index([], dtype='object')\n",
      "Population2011 Index([], dtype='object')\n",
      "PopulationChange20112016 Index([], dtype='object')\n",
      "TotalPrivateDwellings Index([], dtype='object')\n",
      "PrivateDwellingsOccupiedByUsualResidents Index([], dtype='object')\n",
      "PopulationDensityPerSquareKilometre Index([], dtype='object')\n",
      "LandAreaInSquareKilometres Index([], dtype='object')\n"
     ]
    }
   ],
   "source": [
    "# Check null\n",
    "for i in nb2016Pop.columns:\n",
    "    j = nb2016Pop[nb2016Pop[i].isna()==True].index\n",
    "    print(i, j)"
   ]
  },
  {
   "cell_type": "code",
   "execution_count": 36,
   "metadata": {},
   "outputs": [
    {
     "data": {
      "text/html": [
       "<div>\n",
       "<style scoped>\n",
       "    .dataframe tbody tr th:only-of-type {\n",
       "        vertical-align: middle;\n",
       "    }\n",
       "\n",
       "    .dataframe tbody tr th {\n",
       "        vertical-align: top;\n",
       "    }\n",
       "\n",
       "    .dataframe thead th {\n",
       "        text-align: right;\n",
       "    }\n",
       "</style>\n",
       "<table border=\"1\" class=\"dataframe\">\n",
       "  <thead>\n",
       "    <tr style=\"text-align: right;\">\n",
       "      <th></th>\n",
       "      <th>Population2016</th>\n",
       "      <th>Population2011</th>\n",
       "      <th>PopulationChange20112016</th>\n",
       "      <th>TotalPrivateDwellings</th>\n",
       "      <th>PrivateDwellingsOccupiedByUsualResidents</th>\n",
       "      <th>PopulationDensityPerSquareKilometre</th>\n",
       "      <th>LandAreaInSquareKilometres</th>\n",
       "    </tr>\n",
       "  </thead>\n",
       "  <tbody>\n",
       "    <tr>\n",
       "      <th>Population2016</th>\n",
       "      <td>1.000000</td>\n",
       "      <td>0.999948</td>\n",
       "      <td>0.017433</td>\n",
       "      <td>0.999673</td>\n",
       "      <td>0.999762</td>\n",
       "      <td>-0.031591</td>\n",
       "      <td>0.997470</td>\n",
       "    </tr>\n",
       "    <tr>\n",
       "      <th>Population2011</th>\n",
       "      <td>0.999948</td>\n",
       "      <td>1.000000</td>\n",
       "      <td>0.008348</td>\n",
       "      <td>0.999409</td>\n",
       "      <td>0.999535</td>\n",
       "      <td>-0.033305</td>\n",
       "      <td>0.997617</td>\n",
       "    </tr>\n",
       "    <tr>\n",
       "      <th>PopulationChange20112016</th>\n",
       "      <td>0.017433</td>\n",
       "      <td>0.008348</td>\n",
       "      <td>1.000000</td>\n",
       "      <td>0.033966</td>\n",
       "      <td>0.031286</td>\n",
       "      <td>0.195364</td>\n",
       "      <td>0.001156</td>\n",
       "    </tr>\n",
       "    <tr>\n",
       "      <th>TotalPrivateDwellings</th>\n",
       "      <td>0.999673</td>\n",
       "      <td>0.999409</td>\n",
       "      <td>0.033966</td>\n",
       "      <td>1.000000</td>\n",
       "      <td>0.999988</td>\n",
       "      <td>-0.020449</td>\n",
       "      <td>0.996270</td>\n",
       "    </tr>\n",
       "    <tr>\n",
       "      <th>PrivateDwellingsOccupiedByUsualResidents</th>\n",
       "      <td>0.999762</td>\n",
       "      <td>0.999535</td>\n",
       "      <td>0.031286</td>\n",
       "      <td>0.999988</td>\n",
       "      <td>1.000000</td>\n",
       "      <td>-0.021564</td>\n",
       "      <td>0.996450</td>\n",
       "    </tr>\n",
       "    <tr>\n",
       "      <th>PopulationDensityPerSquareKilometre</th>\n",
       "      <td>-0.031591</td>\n",
       "      <td>-0.033305</td>\n",
       "      <td>0.195364</td>\n",
       "      <td>-0.020449</td>\n",
       "      <td>-0.021564</td>\n",
       "      <td>1.000000</td>\n",
       "      <td>-0.067496</td>\n",
       "    </tr>\n",
       "    <tr>\n",
       "      <th>LandAreaInSquareKilometres</th>\n",
       "      <td>0.997470</td>\n",
       "      <td>0.997617</td>\n",
       "      <td>0.001156</td>\n",
       "      <td>0.996270</td>\n",
       "      <td>0.996450</td>\n",
       "      <td>-0.067496</td>\n",
       "      <td>1.000000</td>\n",
       "    </tr>\n",
       "  </tbody>\n",
       "</table>\n",
       "</div>"
      ],
      "text/plain": [
       "                                          Population2016  Population2011  \\\n",
       "Population2016                                  1.000000        0.999948   \n",
       "Population2011                                  0.999948        1.000000   \n",
       "PopulationChange20112016                        0.017433        0.008348   \n",
       "TotalPrivateDwellings                           0.999673        0.999409   \n",
       "PrivateDwellingsOccupiedByUsualResidents        0.999762        0.999535   \n",
       "PopulationDensityPerSquareKilometre            -0.031591       -0.033305   \n",
       "LandAreaInSquareKilometres                      0.997470        0.997617   \n",
       "\n",
       "                                          PopulationChange20112016  \\\n",
       "Population2016                                            0.017433   \n",
       "Population2011                                            0.008348   \n",
       "PopulationChange20112016                                  1.000000   \n",
       "TotalPrivateDwellings                                     0.033966   \n",
       "PrivateDwellingsOccupiedByUsualResidents                  0.031286   \n",
       "PopulationDensityPerSquareKilometre                       0.195364   \n",
       "LandAreaInSquareKilometres                                0.001156   \n",
       "\n",
       "                                          TotalPrivateDwellings  \\\n",
       "Population2016                                         0.999673   \n",
       "Population2011                                         0.999409   \n",
       "PopulationChange20112016                               0.033966   \n",
       "TotalPrivateDwellings                                  1.000000   \n",
       "PrivateDwellingsOccupiedByUsualResidents               0.999988   \n",
       "PopulationDensityPerSquareKilometre                   -0.020449   \n",
       "LandAreaInSquareKilometres                             0.996270   \n",
       "\n",
       "                                          PrivateDwellingsOccupiedByUsualResidents  \\\n",
       "Population2016                                                            0.999762   \n",
       "Population2011                                                            0.999535   \n",
       "PopulationChange20112016                                                  0.031286   \n",
       "TotalPrivateDwellings                                                     0.999988   \n",
       "PrivateDwellingsOccupiedByUsualResidents                                  1.000000   \n",
       "PopulationDensityPerSquareKilometre                                      -0.021564   \n",
       "LandAreaInSquareKilometres                                                0.996450   \n",
       "\n",
       "                                          PopulationDensityPerSquareKilometre  \\\n",
       "Population2016                                                      -0.031591   \n",
       "Population2011                                                      -0.033305   \n",
       "PopulationChange20112016                                             0.195364   \n",
       "TotalPrivateDwellings                                               -0.020449   \n",
       "PrivateDwellingsOccupiedByUsualResidents                            -0.021564   \n",
       "PopulationDensityPerSquareKilometre                                  1.000000   \n",
       "LandAreaInSquareKilometres                                          -0.067496   \n",
       "\n",
       "                                          LandAreaInSquareKilometres  \n",
       "Population2016                                              0.997470  \n",
       "Population2011                                              0.997617  \n",
       "PopulationChange20112016                                    0.001156  \n",
       "TotalPrivateDwellings                                       0.996270  \n",
       "PrivateDwellingsOccupiedByUsualResidents                    0.996450  \n",
       "PopulationDensityPerSquareKilometre                        -0.067496  \n",
       "LandAreaInSquareKilometres                                  1.000000  "
      ]
     },
     "execution_count": 36,
     "metadata": {},
     "output_type": "execute_result"
    }
   ],
   "source": [
    "# Check correlation\n",
    "nb2016Pop.corr()"
   ]
  },
  {
   "cell_type": "code",
   "execution_count": 38,
   "metadata": {},
   "outputs": [],
   "source": [
    "# Get a rate of private dwelling and population\n",
    "nb2016Pop['dw_pop'] = nb2016Pop['TotalPrivateDwellings'] / nb2016Pop['Population2016']"
   ]
  },
  {
   "cell_type": "code",
   "execution_count": 41,
   "metadata": {},
   "outputs": [
    {
     "data": {
      "image/png": "[encoded data removed]",
      "text/plain": [
       "<Figure size 432x288 with 1 Axes>"
      ]
     },
     "metadata": {
      "needs_background": "light"
     },
     "output_type": "display_data"
    }
   ],
   "source": [
    "plt.scatter(nb2016Pop['dw_pop'], nb2016Pop['PopulationChange20112016'])\n",
    "plt.title('Toronto Population Change between 2011 and 2016')\n",
    "plt.xlabel('PrivateDwellings/Population')\n",
    "plt.ylabel('Population Change')\n",
    "plt.show()"
   ]
  },
  {
   "cell_type": "markdown",
   "metadata": {},
   "source": [
    "### Set train and test"
   ]
  },
  {
   "cell_type": "code",
   "execution_count": 47,
   "metadata": {},
   "outputs": [
    {
     "name": "stdout",
     "output_type": "stream",
     "text": [
      "<class 'pandas.core.frame.DataFrame'>\n",
      "Index: 113 entries, City of Toronto to St.Andrew-Windfields\n",
      "Data columns (total 8 columns):\n",
      " #   Column                                    Non-Null Count  Dtype  \n",
      "---  ------                                    --------------  -----  \n",
      " 0   Population2016                            113 non-null    int32  \n",
      " 1   Population2011                            113 non-null    int32  \n",
      " 2   PopulationChange20112016                  113 non-null    float64\n",
      " 3   TotalPrivateDwellings                     113 non-null    int32  \n",
      " 4   PrivateDwellingsOccupiedByUsualResidents  113 non-null    int32  \n",
      " 5   PopulationDensityPerSquareKilometre       113 non-null    int32  \n",
      " 6   LandAreaInSquareKilometres                113 non-null    float64\n",
      " 7   dw_pop                                    113 non-null    float64\n",
      "dtypes: float64(3), int32(5)\n",
      "memory usage: 5.7+ KB\n",
      "None\n",
      "<class 'pandas.core.frame.DataFrame'>\n",
      "Index: 28 entries, Steeles to Yorkdale-Glen Park\n",
      "Data columns (total 8 columns):\n",
      " #   Column                                    Non-Null Count  Dtype  \n",
      "---  ------                                    --------------  -----  \n",
      " 0   Population2016                            28 non-null     int32  \n",
      " 1   Population2011                            28 non-null     int32  \n",
      " 2   PopulationChange20112016                  28 non-null     float64\n",
      " 3   TotalPrivateDwellings                     28 non-null     int32  \n",
      " 4   PrivateDwellingsOccupiedByUsualResidents  28 non-null     int32  \n",
      " 5   PopulationDensityPerSquareKilometre       28 non-null     int32  \n",
      " 6   LandAreaInSquareKilometres                28 non-null     float64\n",
      " 7   dw_pop                                    28 non-null     float64\n",
      "dtypes: float64(3), int32(5)\n",
      "memory usage: 1.4+ KB\n",
      "None\n"
     ]
    }
   ],
   "source": [
    "# train = nb2016Pop.sample(frac=0.8)\n",
    "train = nb2016Pop[:113]\n",
    "# test = pd.concat([nb2016Pop, train]).drop_duplicates(keep=False)\n",
    "test = nb2016Pop[113:]\n",
    "print(train.info())\n",
    "print(test.info())"
   ]
  },
  {
   "cell_type": "markdown",
   "metadata": {},
   "source": [
    "### Build polinomial model"
   ]
  },
  {
   "cell_type": "code",
   "execution_count": 48,
   "metadata": {},
   "outputs": [
    {
     "name": "stdout",
     "output_type": "stream",
     "text": [
      "poly([ 0.10946714 -0.7616271   1.35243886])\n"
     ]
    },
    {
     "data": {
      "text/latex": [
       "$x \\mapsto \\text{0.10946714390400904} - \\text{0.7616271047537668}\\,x + \\text{1.352438857831931}\\,x^{2}$"
      ],
      "text/plain": [
       "Polynomial([ 0.10946714, -0.7616271 ,  1.35243886], domain=[-1,  1], window=[-1,  1])"
      ]
     },
     "execution_count": 48,
     "metadata": {},
     "output_type": "execute_result"
    }
   ],
   "source": [
    "model = pl.Polynomial(pl.polyfit(train['dw_pop'], train['PopulationChange20112016'], 2))\n",
    "print(model)\n",
    "model"
   ]
  },
  {
   "cell_type": "code",
   "execution_count": 49,
   "metadata": {},
   "outputs": [
    {
     "data": {
      "image/png": "[encoded data removed]",
      "text/plain": [
       "<Figure size 432x288 with 1 Axes>"
      ]
     },
     "metadata": {
      "needs_background": "light"
     },
     "output_type": "display_data"
    }
   ],
   "source": [
    "myline = np.linspace(min(nb2016Pop['dw_pop']), max(nb2016Pop['dw_pop']), 141)\n",
    "plt.scatter(train['dw_pop'], train['PopulationChange20112016'])\n",
    "plt.plot(myline, model(myline))\n",
    "plt.title('Toronto Population Change between 2011 and 2016')\n",
    "plt.xlabel('PrivateDwellings/Population')\n",
    "plt.ylabel('Population Change')\n",
    "plt.show()"
   ]
  },
  {
   "cell_type": "markdown",
   "metadata": {},
   "source": [
    "### R-Squared"
   ]
  },
  {
   "cell_type": "code",
   "execution_count": 55,
   "metadata": {},
   "outputs": [
    {
     "name": "stdout",
     "output_type": "stream",
     "text": [
      "r-squared = 0.5782236845307503\n"
     ]
    }
   ],
   "source": [
    "r2 = r2_score(test['PopulationChange20112016'], model(test['dw_pop']) )\n",
    "print('r-squared =', r2)"
   ]
  },
  {
   "cell_type": "markdown",
   "metadata": {},
   "source": [
    "#### r-square is 0.5782, so the model is not good enough.\n",
    "#### However, this project is only an simple example for building polynoomial model."
   ]
  },
  {
   "cell_type": "code",
   "execution_count": null,
   "metadata": {},
   "outputs": [],
   "source": []
  }
 ],
 "metadata": {
  "kernelspec": {
   "display_name": "Python 3",
   "language": "python",
   "name": "python3"
  },
  "language_info": {
   "codemirror_mode": {
    "name": "ipython",
    "version": 3
   },
   "file_extension": ".py",
   "mimetype": "text/x-python",
   "name": "python",
   "nbconvert_exporter": "python",
   "pygments_lexer": "ipython3",
   "version": "3.7.6"
  }
 },
 "nbformat": 4,
 "nbformat_minor": 4
}
