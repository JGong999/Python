{
 "cells": [
  {
   "cell_type": "code",
   "execution_count": 18,
   "metadata": {},
   "outputs": [],
   "source": [
    "import pandas as pd\n",
    "import numpy as np\n",
    "import matplotlib.pyplot as plt"
   ]
  },
  {
   "cell_type": "markdown",
   "metadata": {},
   "source": [
    "### Import data"
   ]
  },
  {
   "cell_type": "code",
   "execution_count": 20,
   "metadata": {},
   "outputs": [
    {
     "data": {
      "text/html": [
       "<div>\n",
       "<style scoped>\n",
       "    .dataframe tbody tr th:only-of-type {\n",
       "        vertical-align: middle;\n",
       "    }\n",
       "\n",
       "    .dataframe tbody tr th {\n",
       "        vertical-align: top;\n",
       "    }\n",
       "\n",
       "    .dataframe thead th {\n",
       "        text-align: right;\n",
       "    }\n",
       "</style>\n",
       "<table border=\"1\" class=\"dataframe\">\n",
       "  <thead>\n",
       "    <tr style=\"text-align: right;\">\n",
       "      <th></th>\n",
       "      <th>_id</th>\n",
       "      <th>Category</th>\n",
       "      <th>Topic</th>\n",
       "      <th>Data Source</th>\n",
       "      <th>Characteristic</th>\n",
       "      <th>City of Toronto</th>\n",
       "      <th>Agincourt North</th>\n",
       "      <th>Agincourt South-Malvern West</th>\n",
       "      <th>Alderwood</th>\n",
       "      <th>Annex</th>\n",
       "      <th>...</th>\n",
       "      <th>Willowdale West</th>\n",
       "      <th>Willowridge-Martingrove-Richview</th>\n",
       "      <th>Woburn</th>\n",
       "      <th>Woodbine Corridor</th>\n",
       "      <th>Woodbine-Lumsden</th>\n",
       "      <th>Wychwood</th>\n",
       "      <th>Yonge-Eglinton</th>\n",
       "      <th>Yonge-St.Clair</th>\n",
       "      <th>York University Heights</th>\n",
       "      <th>Yorkdale-Glen Park</th>\n",
       "    </tr>\n",
       "  </thead>\n",
       "  <tbody>\n",
       "    <tr>\n",
       "      <th>0</th>\n",
       "      <td>1</td>\n",
       "      <td>Neighbourhood Information</td>\n",
       "      <td>Neighbourhood Information</td>\n",
       "      <td>City of Toronto</td>\n",
       "      <td>Neighbourhood Number</td>\n",
       "      <td>NaN</td>\n",
       "      <td>129</td>\n",
       "      <td>128</td>\n",
       "      <td>20</td>\n",
       "      <td>95</td>\n",
       "      <td>...</td>\n",
       "      <td>37</td>\n",
       "      <td>7</td>\n",
       "      <td>137</td>\n",
       "      <td>64</td>\n",
       "      <td>60</td>\n",
       "      <td>94</td>\n",
       "      <td>100</td>\n",
       "      <td>97</td>\n",
       "      <td>27</td>\n",
       "      <td>31</td>\n",
       "    </tr>\n",
       "    <tr>\n",
       "      <th>1</th>\n",
       "      <td>2</td>\n",
       "      <td>Neighbourhood Information</td>\n",
       "      <td>Neighbourhood Information</td>\n",
       "      <td>City of Toronto</td>\n",
       "      <td>TSNS2020 Designation</td>\n",
       "      <td>NaN</td>\n",
       "      <td>No Designation</td>\n",
       "      <td>No Designation</td>\n",
       "      <td>No Designation</td>\n",
       "      <td>No Designation</td>\n",
       "      <td>...</td>\n",
       "      <td>No Designation</td>\n",
       "      <td>No Designation</td>\n",
       "      <td>NIA</td>\n",
       "      <td>No Designation</td>\n",
       "      <td>No Designation</td>\n",
       "      <td>No Designation</td>\n",
       "      <td>No Designation</td>\n",
       "      <td>No Designation</td>\n",
       "      <td>NIA</td>\n",
       "      <td>Emerging Neighbourhood</td>\n",
       "    </tr>\n",
       "    <tr>\n",
       "      <th>2</th>\n",
       "      <td>3</td>\n",
       "      <td>Population</td>\n",
       "      <td>Population and dwellings</td>\n",
       "      <td>Census Profile 98-316-X2016001</td>\n",
       "      <td>Population, 2016</td>\n",
       "      <td>2,731,571</td>\n",
       "      <td>29,113</td>\n",
       "      <td>23,757</td>\n",
       "      <td>12,054</td>\n",
       "      <td>30,526</td>\n",
       "      <td>...</td>\n",
       "      <td>16,936</td>\n",
       "      <td>22,156</td>\n",
       "      <td>53,485</td>\n",
       "      <td>12,541</td>\n",
       "      <td>7,865</td>\n",
       "      <td>14,349</td>\n",
       "      <td>11,817</td>\n",
       "      <td>12,528</td>\n",
       "      <td>27,593</td>\n",
       "      <td>14,804</td>\n",
       "    </tr>\n",
       "  </tbody>\n",
       "</table>\n",
       "<p>3 rows × 146 columns</p>\n",
       "</div>"
      ],
      "text/plain": [
       "   _id                   Category                      Topic  \\\n",
       "0    1  Neighbourhood Information  Neighbourhood Information   \n",
       "1    2  Neighbourhood Information  Neighbourhood Information   \n",
       "2    3                 Population   Population and dwellings   \n",
       "\n",
       "                      Data Source        Characteristic City of Toronto  \\\n",
       "0                 City of Toronto  Neighbourhood Number             NaN   \n",
       "1                 City of Toronto  TSNS2020 Designation             NaN   \n",
       "2  Census Profile 98-316-X2016001      Population, 2016       2,731,571   \n",
       "\n",
       "  Agincourt North Agincourt South-Malvern West       Alderwood  \\\n",
       "0             129                          128              20   \n",
       "1  No Designation               No Designation  No Designation   \n",
       "2          29,113                       23,757          12,054   \n",
       "\n",
       "            Annex  ... Willowdale West Willowridge-Martingrove-Richview  \\\n",
       "0              95  ...              37                                7   \n",
       "1  No Designation  ...  No Designation                   No Designation   \n",
       "2          30,526  ...          16,936                           22,156   \n",
       "\n",
       "   Woburn Woodbine Corridor Woodbine-Lumsden        Wychwood  Yonge-Eglinton  \\\n",
       "0     137                64               60              94             100   \n",
       "1     NIA    No Designation   No Designation  No Designation  No Designation   \n",
       "2  53,485            12,541            7,865          14,349          11,817   \n",
       "\n",
       "   Yonge-St.Clair York University Heights      Yorkdale-Glen Park  \n",
       "0              97                      27                      31  \n",
       "1  No Designation                     NIA  Emerging Neighbourhood  \n",
       "2          12,528                  27,593                  14,804  \n",
       "\n",
       "[3 rows x 146 columns]"
      ]
     },
     "execution_count": 20,
     "metadata": {},
     "output_type": "execute_result"
    }
   ],
   "source": [
    "nb_2016 = pd.read_csv('neighbourhood-profiles-2016-csv.csv')\n",
    "nb_2016.head(3)"
   ]
  },
  {
   "cell_type": "code",
   "execution_count": 21,
   "metadata": {},
   "outputs": [
    {
     "data": {
      "text/plain": [
       "array(['_id', 'Category', 'Topic', 'Data Source', 'Characteristic',\n",
       "       'City of Toronto', 'Agincourt North',\n",
       "       'Agincourt South-Malvern West', 'Alderwood', 'Annex',\n",
       "       'Banbury-Don Mills', 'Bathurst Manor', 'Bay Street Corridor',\n",
       "       'Bayview Village', 'Bayview Woods-Steeles', 'Bedford Park-Nortown',\n",
       "       'Beechborough-Greenbrook', 'Bendale', 'Birchcliffe-Cliffside',\n",
       "       'Black Creek', 'Blake-Jones', 'Briar Hill-Belgravia',\n",
       "       'Bridle Path-Sunnybrook-York Mills', 'Broadview North',\n",
       "       'Brookhaven-Amesbury', 'Cabbagetown-South St. James Town',\n",
       "       'Caledonia-Fairbank', 'Casa Loma', 'Centennial Scarborough',\n",
       "       'Church-Yonge Corridor', 'Clairlea-Birchmount', 'Clanton Park',\n",
       "       'Cliffcrest', 'Corso Italia-Davenport', 'Danforth',\n",
       "       'Danforth East York', 'Don Valley Village', 'Dorset Park',\n",
       "       'Dovercourt-Wallace Emerson-Junction', 'Downsview-Roding-CFB',\n",
       "       'Dufferin Grove', 'East End-Danforth', 'Edenbridge-Humber Valley',\n",
       "       'Eglinton East', 'Elms-Old Rexdale', 'Englemount-Lawrence',\n",
       "       'Eringate-Centennial-West Deane', 'Etobicoke West Mall',\n",
       "       'Flemingdon Park', 'Forest Hill North', 'Forest Hill South',\n",
       "       'Glenfield-Jane Heights', 'Greenwood-Coxwell', 'Guildwood',\n",
       "       'Henry Farm', 'High Park North', 'High Park-Swansea',\n",
       "       'Highland Creek', 'Hillcrest Village', 'Humber Heights-Westmount',\n",
       "       'Humber Summit', 'Humbermede', 'Humewood-Cedarvale', 'Ionview',\n",
       "       'Islington-City Centre West', 'Junction Area',\n",
       "       'Keelesdale-Eglinton West', 'Kennedy Park', 'Kensington-Chinatown',\n",
       "       'Kingsview Village-The Westway', 'Kingsway South',\n",
       "       'Lambton Baby Point', \"L'Amoreaux\", 'Lansing-Westgate',\n",
       "       'Lawrence Park North', 'Lawrence Park South', 'Leaside-Bennington',\n",
       "       'Little Portugal', 'Long Branch', 'Malvern', 'Maple Leaf',\n",
       "       'Markland Wood', 'Milliken', 'Mimico (includes Humber Bay Shores)',\n",
       "       'Morningside', 'Moss Park', 'Mount Dennis',\n",
       "       'Mount Olive-Silverstone-Jamestown', 'Mount Pleasant East',\n",
       "       'Mount Pleasant West', 'New Toronto', 'Newtonbrook East',\n",
       "       'Newtonbrook West', 'Niagara', 'North Riverdale',\n",
       "       'North St. James Town', 'Oakridge', 'Oakwood Village',\n",
       "       \"O'Connor-Parkview\", 'Old East York', 'Palmerston-Little Italy',\n",
       "       'Parkwoods-Donalda', 'Pelmo Park-Humberlea',\n",
       "       'Playter Estates-Danforth', 'Pleasant View', 'Princess-Rosethorn',\n",
       "       'Regent Park', 'Rexdale-Kipling', 'Rockcliffe-Smythe',\n",
       "       'Roncesvalles', 'Rosedale-Moore Park', 'Rouge',\n",
       "       'Runnymede-Bloor West Village', 'Rustic', 'Scarborough Village',\n",
       "       'South Parkdale', 'South Riverdale', 'St.Andrew-Windfields',\n",
       "       'Steeles', 'Stonegate-Queensway', \"Tam O'Shanter-Sullivan\",\n",
       "       'Taylor-Massey', 'The Beaches', 'Thistletown-Beaumond Heights',\n",
       "       'Thorncliffe Park', 'Trinity-Bellwoods', 'University',\n",
       "       'Victoria Village', 'Waterfront Communities-The Island',\n",
       "       'West Hill', 'West Humber-Clairville', 'Westminster-Branson',\n",
       "       'Weston', 'Weston-Pelham Park', 'Wexford/Maryvale',\n",
       "       'Willowdale East', 'Willowdale West',\n",
       "       'Willowridge-Martingrove-Richview', 'Woburn', 'Woodbine Corridor',\n",
       "       'Woodbine-Lumsden', 'Wychwood', 'Yonge-Eglinton', 'Yonge-St.Clair',\n",
       "       'York University Heights', 'Yorkdale-Glen Park'], dtype=object)"
      ]
     },
     "execution_count": 21,
     "metadata": {},
     "output_type": "execute_result"
    }
   ],
   "source": [
    "nb_2016.columns.values"
   ]
  },
  {
   "cell_type": "markdown",
   "metadata": {},
   "source": [
    "### Create new tables for each Category with name of 'nb2016_ _Category_'"
   ]
  },
  {
   "cell_type": "code",
   "execution_count": 23,
   "metadata": {},
   "outputs": [
    {
     "data": {
      "text/plain": [
       "['nb2016_NeighbourhoodInformation',\n",
       " 'nb2016_Population',\n",
       " 'nb2016_FamiliesHouseholdsAndMaritalStatus',\n",
       " 'nb2016_Language',\n",
       " 'nb2016_Income',\n",
       " 'nb2016_ImmigrationAndCitizenship',\n",
       " 'nb2016_VisibleMinority',\n",
       " 'nb2016_EthnicOrigin',\n",
       " 'nb2016_AboriginalPeoples',\n",
       " 'nb2016_Education',\n",
       " 'nb2016_Housing',\n",
       " 'nb2016_LanguageOfWork',\n",
       " 'nb2016_Labour',\n",
       " 'nb2016_JourneyToWork',\n",
       " 'nb2016_Mobility']"
      ]
     },
     "execution_count": 23,
     "metadata": {},
     "output_type": "execute_result"
    }
   ],
   "source": [
    "tableName = []\n",
    "for i in nb_2016['Category'].unique():\n",
    "    j = i.title().replace(', ', '').replace(' ', '')\n",
    "    tableName.append('nb2016_' + j)\n",
    "    globals()['nb2016_' + j] = nb_2016[nb_2016['Category'] == i]\n",
    "tableName"
   ]
  },
  {
   "cell_type": "markdown",
   "metadata": {},
   "source": [
    "### Create subset of Population"
   ]
  },
  {
   "cell_type": "code",
   "execution_count": 24,
   "metadata": {},
   "outputs": [
    {
     "name": "stdout",
     "output_type": "stream",
     "text": [
      "['Population and dwellings' 'Age characteristics']\n"
     ]
    }
   ],
   "source": [
    "print(nb2016_Population['Topic'].unique())"
   ]
  },
  {
   "cell_type": "code",
   "execution_count": 25,
   "metadata": {},
   "outputs": [],
   "source": [
    "nb2016Age = nb2016_Population[nb2016_Population['Topic'] == 'Age characteristics'].iloc[:, 4:]"
   ]
  },
  {
   "cell_type": "code",
   "execution_count": 26,
   "metadata": {},
   "outputs": [],
   "source": [
    "# Convert string to int\n",
    "for i in nb2016Age.iloc[:, 1:].columns:\n",
    "    nb2016Age[i] = nb2016Age[i].str.replace(',', '').astype('int')"
   ]
  },
  {
   "cell_type": "markdown",
   "metadata": {},
   "source": [
    "### Analyze with age segments"
   ]
  },
  {
   "cell_type": "code",
   "execution_count": 27,
   "metadata": {},
   "outputs": [],
   "source": [
    "nb2016AgeSeg = nb2016Age[:6]"
   ]
  },
  {
   "cell_type": "code",
   "execution_count": 28,
   "metadata": {},
   "outputs": [
    {
     "data": {
      "image/png": "[encoded data removed]",
      "text/plain": [
       "<Figure size 432x288 with 1 Axes>"
      ]
     },
     "metadata": {
      "needs_background": "light"
     },
     "output_type": "display_data"
    }
   ],
   "source": [
    "# Plot horizontal bar by age segments\n",
    "plt.barh(nb2016AgeSeg['Characteristic'], nb2016AgeSeg['City of Toronto'])\n",
    "plt.xlabel('Population')\n",
    "plt.show()"
   ]
  },
  {
   "cell_type": "markdown",
   "metadata": {},
   "source": [
    "### Analyze with age and gender segments"
   ]
  },
  {
   "cell_type": "code",
   "execution_count": 29,
   "metadata": {},
   "outputs": [
    {
     "name": "stdout",
     "output_type": "stream",
     "text": [
      "<class 'pandas.core.frame.DataFrame'>\n",
      "Int64Index: 42 entries, 15 to 56\n",
      "Columns: 142 entries, Characteristic to Yorkdale-Glen Park\n",
      "dtypes: int32(141), object(1)\n",
      "memory usage: 23.8+ KB\n"
     ]
    }
   ],
   "source": [
    "nb2016AgeGender = nb2016Age[6:]\n",
    "nb2016AgeGender.info()"
   ]
  },
  {
   "cell_type": "code",
   "execution_count": 30,
   "metadata": {},
   "outputs": [],
   "source": [
    "nb2016Female = nb2016AgeGender[nb2016AgeGender['Characteristic'].str.find('Female') == 0]"
   ]
  },
  {
   "cell_type": "code",
   "execution_count": 31,
   "metadata": {},
   "outputs": [],
   "source": [
    "nb2016Male = nb2016AgeGender[nb2016AgeGender['Characteristic'].str.find('Female') == -1]"
   ]
  },
  {
   "cell_type": "code",
   "execution_count": 37,
   "metadata": {},
   "outputs": [],
   "source": [
    "nb2016Female['Age'] = nb2016Female['Characteristic'].str[8:]\n",
    "nb2016Male['Age'] = nb2016Male['Characteristic'].str[6:]"
   ]
  },
  {
   "cell_type": "code",
   "execution_count": 33,
   "metadata": {},
   "outputs": [],
   "source": [
    "nb2016FM = pd.merge(nb2016Female, nb2016Male, how='inner', on='Age', suffixes=('_f', '_m'))\n",
    "nb2016FM['Ages'] = nb2016FM['Age'].str.split().str.get(0).astype('int')"
   ]
  },
  {
   "cell_type": "code",
   "execution_count": 34,
   "metadata": {},
   "outputs": [],
   "source": [
    "nb2016FM = nb2016FM.sort_values(['Ages'])"
   ]
  },
  {
   "cell_type": "code",
   "execution_count": 35,
   "metadata": {},
   "outputs": [
    {
     "data": {
      "image/png": "[encoded data removed]",
      "text/plain": [
       "<Figure size 432x288 with 1 Axes>"
      ]
     },
     "metadata": {
      "needs_background": "light"
     },
     "output_type": "display_data"
    }
   ],
   "source": [
    "X = nb2016FM['Age']\n",
    "plt.barh(X, nb2016FM['City of Toronto_f'])\n",
    "plt.barh(X, -nb2016FM['City of Toronto_m'])\n",
    "plt.title('City of Toronto')\n",
    "plt.xlabel('Male                  Female')\n",
    "plt.show()"
   ]
  },
  {
   "cell_type": "code",
   "execution_count": 36,
   "metadata": {},
   "outputs": [
    {
     "data": {
      "image/png": "[encoded data removed]",
      "text/plain": [
       "<Figure size 432x288 with 1 Axes>"
      ]
     },
     "metadata": {
      "needs_background": "light"
     },
     "output_type": "display_data"
    }
   ],
   "source": [
    "X = nb2016FM['Age']\n",
    "plt.barh(X, nb2016FM['Agincourt North_f'])\n",
    "plt.barh(X, -nb2016FM['Agincourt North_m'])\n",
    "plt.title('Agincourt North')\n",
    "plt.xlabel('Male                  Female')\n",
    "plt.show()"
   ]
  }
 ],
 "metadata": {
  "kernelspec": {
   "display_name": "Python 3",
   "language": "python",
   "name": "python3"
  },
  "language_info": {
   "codemirror_mode": {
    "name": "ipython",
    "version": 3
   },
   "file_extension": ".py",
   "mimetype": "text/x-python",
   "name": "python",
   "nbconvert_exporter": "python",
   "pygments_lexer": "ipython3",
   "version": "3.7.6"
  }
 },
 "nbformat": 4,
 "nbformat_minor": 4
}
